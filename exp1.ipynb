{
 "cells": [
  {
   "attachments": {},
   "cell_type": "markdown",
   "metadata": {},
   "source": [
    "# Descriptive Statistics"
   ]
  },
  {
   "cell_type": "code",
   "execution_count": null,
   "metadata": {},
   "outputs": [],
   "source": [
    "import pandas as pd\n",
    "import numpy as np\n",
    "from scipy import stats\n",
    "import matplotlib.pyplot as plt\n"
   ]
  },
  {
   "cell_type": "code",
   "execution_count": null,
   "metadata": {},
   "outputs": [],
   "source": [
    "df = pd.read_csv('uber.csv')"
   ]
  },
  {
   "cell_type": "code",
   "execution_count": null,
   "metadata": {},
   "outputs": [],
   "source": [
    "df.head()"
   ]
  },
  {
   "cell_type": "code",
   "execution_count": null,
   "metadata": {},
   "outputs": [],
   "source": [
    "df.fare_amount.mdian()"
   ]
  },
  {
   "attachments": {},
   "cell_type": "markdown",
   "metadata": {},
   "source": [
    "### Mean fares & passengers"
   ]
  },
  {
   "cell_type": "code",
   "execution_count": null,
   "metadata": {},
   "outputs": [],
   "source": [
    "meanFares = np.mean(df[\"fare_amount\"])\n",
    "meanPassengers = np.mean(df[\"passenger_count\"])\n",
    "print(f\"The mean of the fares column is: {round(meanFares,3)}\")\n",
    "print(f\"The mean of the passenger count column is: {round(meanPassengers,3)}\")"
   ]
  },
  {
   "attachments": {},
   "cell_type": "markdown",
   "metadata": {},
   "source": [
    "### Median fares & passengers"
   ]
  },
  {
   "cell_type": "code",
   "execution_count": null,
   "metadata": {},
   "outputs": [],
   "source": [
    "medianFares = np.median(df[\"fare_amount\"])\n",
    "medianPassenger = np.median(df[\"passenger_count\"])\n",
    "print(f\"The median of the fares column is: {round(medianFares,3)}\")\n",
    "print(f\"The median of the passenger count column is: {round(medianPassenger,3)}\")"
   ]
  },
  {
   "attachments": {},
   "cell_type": "markdown",
   "metadata": {},
   "source": [
    "### Mode of fares & passengers"
   ]
  },
  {
   "cell_type": "code",
   "execution_count": null,
   "metadata": {},
   "outputs": [],
   "source": [
    "modeFares = stats.mode(df[\"fare_amount\"])\n",
    "modePassenger = stats.mode(df[\"passenger_count\"])\n",
    "print(f\"The mean of the fares column is: {modeFares[0]}\")\n",
    "print(f\"The mean of the passenger count column is: {modePassenger[0]}\")"
   ]
  },
  {
   "attachments": {},
   "cell_type": "markdown",
   "metadata": {},
   "source": [
    "### Min, Max and Sum of fares & passengers"
   ]
  },
  {
   "cell_type": "code",
   "execution_count": 8,
   "metadata": {},
   "outputs": [
    {
     "name": "stdout",
     "output_type": "stream",
     "text": [
      "The min fare is: -52.0\n",
      "The min number passenger is: 0\n",
      "The max fare is: 499.0\n",
      "The max number of passenger is: 6\n",
      "The sum of fares is: 2271979.35\n",
      "The sum of passenger count is: 336699\n"
     ]
    }
   ],
   "source": [
    "minFares = np.min(df['fare_amount'])\n",
    "minPassenger = np.min(df['passenger_count'])\n",
    "print(f\"The min fare is: {minFares}\")\n",
    "print(f\"The min number passenger is: {minPassenger}\")\n",
    "\n",
    "maxFares = np.max(df['fare_amount'])\n",
    "maxPassenger = np.max(df['passenger_count'])\n",
    "print(f\"The max fare is: {maxFares}\")\n",
    "print(f\"The max number of passenger is: {maxPassenger}\")\n",
    "\n",
    "sumFares = np.sum(df['fare_amount'])\n",
    "sumPassenger = np.sum(df['passenger_count'])\n",
    "print(f\"The sum of fares is: {sumFares}\")\n",
    "print(f\"The sum of passenger count is: {sumPassenger}\")\n"
   ]
  },
  {
   "attachments": {},
   "cell_type": "markdown",
   "metadata": {},
   "source": [
    "### Range, First Quartile, Third Quartile and Interquartile Range"
   ]
  },
  {
   "cell_type": "code",
   "execution_count": 12,
   "metadata": {},
   "outputs": [
    {
     "name": "stdout",
     "output_type": "stream",
     "text": [
      "Fares: \n",
      "Range:  551.0\n",
      "8\n",
      "\n",
      "\n",
      "Passenger Count: \n",
      "Range:  6\n",
      "count    199999.000000\n",
      "mean          1.683503\n",
      "std           1.306967\n",
      "min           0.000000\n",
      "25%           1.000000\n",
      "50%           1.000000\n",
      "75%           2.000000\n",
      "max           6.000000\n",
      "Name: passenger_count, dtype: float64\n"
     ]
    }
   ],
   "source": [
    "print(\"Fares: \")\n",
    "print(\"Range: \",np.ptp(df[\"fare_amount\"]))\n",
    "print(df.fare_amount.describe())\n",
    "print(\"\\n\")\n",
    "print(\"Passenger Count: \")\n",
    "print(\"Range: \",np.ptp(df[\"passenger_count\"]))\n",
    "print(df.passenger_count.describe())"
   ]
  },
  {
   "attachments": {},
   "cell_type": "markdown",
   "metadata": {},
   "source": [
    "### Standard Deviation & Variances of Fares and Passengers"
   ]
  },
  {
   "cell_type": "code",
   "execution_count": 38,
   "metadata": {},
   "outputs": [
    {
     "name": "stdout",
     "output_type": "stream",
     "text": [
      "Standard Deviation of Fares:  9.902\n",
      "Variance of Fares:  98.045\n",
      "Standard Deviation of Passengers:  1.307\n",
      "Variance of Fares:  1.708\n"
     ]
    }
   ],
   "source": [
    "stdFares = np.std(df[\"fare_amount\"])\n",
    "print(\"Standard Deviation of Fares: \", round(stdFares,3))\n",
    "varFares = np.var(df[\"fare_amount\"])\n",
    "print(\"Variance of Fares: \", round(varFares,3))\n",
    "\n",
    "stdPassengers = np.std(df[\"passenger_count\"])\n",
    "print(\"Standard Deviation of Passengers: \", round(stdPassengers,3))\n",
    "varPassengers = np.var(df[\"passenger_count\"])\n",
    "print(\"Variance of Fares: \", round(varPassengers,3))\n"
   ]
  },
  {
   "attachments": {},
   "cell_type": "markdown",
   "metadata": {},
   "source": [
    "### Correlation between Number of Passengers and Fares"
   ]
  },
  {
   "cell_type": "code",
   "execution_count": 40,
   "metadata": {},
   "outputs": [
    {
     "name": "stdout",
     "output_type": "stream",
     "text": [
      "[[1.         0.01073659]\n",
      " [0.01073659 1.        ]]\n"
     ]
    }
   ],
   "source": [
    "corr = np.corrcoef(df[\"fare_amount\"],df[\"passenger_count\"])\n",
    "print(corr)"
   ]
  },
  {
   "attachments": {},
   "cell_type": "markdown",
   "metadata": {},
   "source": [
    "### Standard Error of Mean"
   ]
  },
  {
   "cell_type": "code",
   "execution_count": 42,
   "metadata": {},
   "outputs": [
    {
     "name": "stdout",
     "output_type": "stream",
     "text": [
      "Standard Error of Mean of Fares:  0.022\n",
      "Standard Error of Mean of Number of Passengers:  0.003\n"
     ]
    }
   ],
   "source": [
    "semFares = stats.sem(df[\"fare_amount\"])\n",
    "print(\"Standard Error of Mean of Fares: \", round(semFares,3))\n",
    "semPassengers = stats.sem(df[\"passenger_count\"])\n",
    "print(\"Standard Error of Mean of Number of Passengers: \", round(semPassengers,3))"
   ]
  },
  {
   "attachments": {},
   "cell_type": "markdown",
   "metadata": {},
   "source": [
    "### Coefficient of Variation "
   ]
  },
  {
   "cell_type": "code",
   "execution_count": 43,
   "metadata": {},
   "outputs": [
    {
     "name": "stdout",
     "output_type": "stream",
     "text": [
      "Coefficient of Variation of Fares:  87.164\n",
      "Coefficient of Variation of Passenger count:  77.634\n"
     ]
    }
   ],
   "source": [
    "cv = lambda x: np.std(x, ddof=1) / np.mean(x) * 100 \n",
    "covFares = cv(df[\"fare_amount\"])\n",
    "print(\"Coefficient of Variation of Fares: \", round(covFares,3))\n",
    "covPass = cv(df[\"passenger_count\"])\n",
    "print(\"Coefficient of Variation of Passenger count: \", round(covPass,3))"
   ]
  },
  {
   "attachments": {},
   "cell_type": "markdown",
   "metadata": {},
   "source": [
    "### Null values in every column"
   ]
  },
  {
   "cell_type": "code",
   "execution_count": 48,
   "metadata": {},
   "outputs": [
    {
     "data": {
      "text/plain": [
       "key                  0\n",
       "date                 0\n",
       "fare_amount          0\n",
       "pickup_datetime      0\n",
       "pickup_longitude     0\n",
       "pickup_latitude      0\n",
       "dropoff_longitude    1\n",
       "dropoff_latitude     1\n",
       "passenger_count      0\n",
       "dtype: int64"
      ]
     },
     "execution_count": 48,
     "metadata": {},
     "output_type": "execute_result"
    }
   ],
   "source": [
    "df.isnull().sum()\n"
   ]
  },
  {
   "attachments": {},
   "cell_type": "markdown",
   "metadata": {},
   "source": [
    "### Total Count of each Column"
   ]
  },
  {
   "cell_type": "code",
   "execution_count": 51,
   "metadata": {},
   "outputs": [
    {
     "data": {
      "text/plain": [
       "key                  199999\n",
       "date                 199999\n",
       "fare_amount          199999\n",
       "pickup_datetime      199999\n",
       "pickup_longitude     199999\n",
       "pickup_latitude      199999\n",
       "dropoff_longitude    199998\n",
       "dropoff_latitude     199998\n",
       "passenger_count      199999\n",
       "dtype: int64"
      ]
     },
     "execution_count": 51,
     "metadata": {},
     "output_type": "execute_result"
    }
   ],
   "source": [
    "df.count()"
   ]
  },
  {
   "attachments": {},
   "cell_type": "markdown",
   "metadata": {},
   "source": [
    "### Cumulative Percentage"
   ]
  },
  {
   "cell_type": "code",
   "execution_count": 52,
   "metadata": {},
   "outputs": [
    {
     "name": "stdout",
     "output_type": "stream",
     "text": [
      "Cumulative Percentage of Fares:  0           0.000330\n",
      "1           0.000669\n",
      "2           0.001237\n",
      "3           0.001470\n",
      "4           0.002174\n",
      "             ...    \n",
      "199994     99.997051\n",
      "199995     99.997381\n",
      "199996     99.998741\n",
      "199997     99.999379\n",
      "199998    100.000000\n",
      "Name: fare_amount, Length: 199999, dtype: float64\n"
     ]
    }
   ],
   "source": [
    "cpFares = 100 * (df['fare_amount'].cumsum()/df['fare_amount'].sum()) \n",
    "print(\"Cumulative Percentage of Fares: \", cpFares)\n"
   ]
  },
  {
   "attachments": {},
   "cell_type": "markdown",
   "metadata": {},
   "source": [
    "### Trimmed Mean"
   ]
  },
  {
   "cell_type": "code",
   "execution_count": 53,
   "metadata": {},
   "outputs": [
    {
     "name": "stdout",
     "output_type": "stream",
     "text": [
      "Trimmed mean (0.1) of Fares is:  9.343966162711482\n"
     ]
    }
   ],
   "source": [
    "tmFares = stats.trim_mean(df[\"fare_amount\"], 0.1)\n",
    "print(\"Trimmed mean (0.1) of Fares is: \", tmFares)"
   ]
  },
  {
   "attachments": {},
   "cell_type": "markdown",
   "metadata": {},
   "source": [
    "### Sum of Squares"
   ]
  },
  {
   "cell_type": "code",
   "execution_count": 55,
   "metadata": {},
   "outputs": [
    {
     "name": "stdout",
     "output_type": "stream",
     "text": [
      "Sum of Square of fares is:  45418516.20350208\n",
      "Sum of Square of number of passengers is:  908463\n"
     ]
    }
   ],
   "source": [
    "ssFares = 0\n",
    "ssPass = 0\n",
    "for i in range (len(df['fare_amount'])):\n",
    "    fare = df[\"fare_amount\"][i]\n",
    "    ssFares += (fare*fare)\n",
    "    nPass = df[\"passenger_count\"][i]\n",
    "    ssPass += (nPass*nPass)\n",
    "print(\"Sum of Square of fares is: \",ssFares)\n",
    "print(\"Sum of Square of number of passengers is: \",ssPass)\n"
   ]
  },
  {
   "attachments": {},
   "cell_type": "markdown",
   "metadata": {},
   "source": [
    "### Skewness and Kurtosis"
   ]
  },
  {
   "cell_type": "code",
   "execution_count": 56,
   "metadata": {},
   "outputs": [
    {
     "data": {
      "text/plain": [
       "key                  -0.001821\n",
       "fare_amount           4.504836\n",
       "pickup_longitude     -7.495874\n",
       "pickup_latitude      62.976705\n",
       "dropoff_longitude   -71.504932\n",
       "dropoff_latitude     -8.030991\n",
       "passenger_count       1.973809\n",
       "dtype: float64"
      ]
     },
     "execution_count": 56,
     "metadata": {},
     "output_type": "execute_result"
    }
   ],
   "source": [
    "df.skew()"
   ]
  },
  {
   "cell_type": "code",
   "execution_count": 57,
   "metadata": {},
   "outputs": [
    {
     "data": {
      "text/plain": [
       "key                     -1.200252\n",
       "fare_amount             63.883984\n",
       "pickup_longitude      1144.021917\n",
       "pickup_latitude      12869.177739\n",
       "dropoff_longitude    20078.624996\n",
       "dropoff_latitude      2981.727424\n",
       "passenger_count          2.763982\n",
       "dtype: float64"
      ]
     },
     "execution_count": 57,
     "metadata": {},
     "output_type": "execute_result"
    }
   ],
   "source": [
    "df.kurtosis()"
   ]
  },
  {
   "attachments": {},
   "cell_type": "markdown",
   "metadata": {},
   "source": [
    "### Plots"
   ]
  },
  {
   "attachments": {},
   "cell_type": "markdown",
   "metadata": {},
   "source": [
    "### Box and Whisker Plot"
   ]
  },
  {
   "cell_type": "code",
   "execution_count": 5,
   "metadata": {},
   "outputs": [
    {
     "data": {
      "text/plain": [
       "<AxesSubplot:title={'center':'fare_amount'}, xlabel='passenger_count'>"
      ]
     },
     "execution_count": 5,
     "metadata": {},
     "output_type": "execute_result"
    },
    {
     "data": {
      "image/png": "[encoded data removed]",
      "text/plain": [
       "<Figure size 640x480 with 1 Axes>"
      ]
     },
     "metadata": {},
     "output_type": "display_data"
    }
   ],
   "source": [
    "df.boxplot(by=\"passenger_count\", column=\"fare_amount\",grid=False)"
   ]
  },
  {
   "attachments": {},
   "cell_type": "markdown",
   "metadata": {},
   "source": [
    "### Scatter Plot between fare amount and passenger count"
   ]
  },
  {
   "cell_type": "code",
   "execution_count": 68,
   "metadata": {},
   "outputs": [
    {
     "data": {
      "text/plain": [
       "<matplotlib.collections.PathCollection at 0x310f72460>"
      ]
     },
     "execution_count": 68,
     "metadata": {},
     "output_type": "execute_result"
    },
    {
     "data": {
      "image/png": "[encoded data removed]",
      "text/plain": [
       "<Figure size 640x480 with 1 Axes>"
      ]
     },
     "metadata": {},
     "output_type": "display_data"
    }
   ],
   "source": [
    "plt.scatter(df[\"fare_amount\"], df[\"passenger_count\"])"
   ]
  },
  {
   "attachments": {},
   "cell_type": "markdown",
   "metadata": {},
   "source": [
    "### Correlation Matrix"
   ]
  },
  {
   "cell_type": "code",
   "execution_count": 69,
   "metadata": {},
   "outputs": [
    {
     "data": {
      "text/html": [
       "<div>\n",
       "<style scoped>\n",
       "    .dataframe tbody tr th:only-of-type {\n",
       "        vertical-align: middle;\n",
       "    }\n",
       "\n",
       "    .dataframe tbody tr th {\n",
       "        vertical-align: top;\n",
       "    }\n",
       "\n",
       "    .dataframe thead th {\n",
       "        text-align: right;\n",
       "    }\n",
       "</style>\n",
       "<table border=\"1\" class=\"dataframe\">\n",
       "  <thead>\n",
       "    <tr style=\"text-align: right;\">\n",
       "      <th></th>\n",
       "      <th>key</th>\n",
       "      <th>fare_amount</th>\n",
       "      <th>pickup_longitude</th>\n",
       "      <th>pickup_latitude</th>\n",
       "      <th>dropoff_longitude</th>\n",
       "      <th>dropoff_latitude</th>\n",
       "      <th>passenger_count</th>\n",
       "    </tr>\n",
       "  </thead>\n",
       "  <tbody>\n",
       "    <tr>\n",
       "      <th>key</th>\n",
       "      <td>1.000000</td>\n",
       "      <td>0.000589</td>\n",
       "      <td>0.000230</td>\n",
       "      <td>-0.000341</td>\n",
       "      <td>0.000270</td>\n",
       "      <td>0.000271</td>\n",
       "      <td>0.001990</td>\n",
       "    </tr>\n",
       "    <tr>\n",
       "      <th>fare_amount</th>\n",
       "      <td>0.000589</td>\n",
       "      <td>1.000000</td>\n",
       "      <td>0.010457</td>\n",
       "      <td>-0.008481</td>\n",
       "      <td>0.008986</td>\n",
       "      <td>-0.011014</td>\n",
       "      <td>0.010737</td>\n",
       "    </tr>\n",
       "    <tr>\n",
       "      <th>pickup_longitude</th>\n",
       "      <td>0.000230</td>\n",
       "      <td>0.010457</td>\n",
       "      <td>1.000000</td>\n",
       "      <td>-0.816461</td>\n",
       "      <td>0.833026</td>\n",
       "      <td>-0.846324</td>\n",
       "      <td>-0.000342</td>\n",
       "    </tr>\n",
       "    <tr>\n",
       "      <th>pickup_latitude</th>\n",
       "      <td>-0.000341</td>\n",
       "      <td>-0.008481</td>\n",
       "      <td>-0.816461</td>\n",
       "      <td>1.000000</td>\n",
       "      <td>-0.774787</td>\n",
       "      <td>0.702367</td>\n",
       "      <td>-0.001738</td>\n",
       "    </tr>\n",
       "    <tr>\n",
       "      <th>dropoff_longitude</th>\n",
       "      <td>0.000270</td>\n",
       "      <td>0.008986</td>\n",
       "      <td>0.833026</td>\n",
       "      <td>-0.774787</td>\n",
       "      <td>1.000000</td>\n",
       "      <td>-0.917010</td>\n",
       "      <td>0.000120</td>\n",
       "    </tr>\n",
       "    <tr>\n",
       "      <th>dropoff_latitude</th>\n",
       "      <td>0.000271</td>\n",
       "      <td>-0.011014</td>\n",
       "      <td>-0.846324</td>\n",
       "      <td>0.702367</td>\n",
       "      <td>-0.917010</td>\n",
       "      <td>1.000000</td>\n",
       "      <td>-0.000796</td>\n",
       "    </tr>\n",
       "    <tr>\n",
       "      <th>passenger_count</th>\n",
       "      <td>0.001990</td>\n",
       "      <td>0.010737</td>\n",
       "      <td>-0.000342</td>\n",
       "      <td>-0.001738</td>\n",
       "      <td>0.000120</td>\n",
       "      <td>-0.000796</td>\n",
       "      <td>1.000000</td>\n",
       "    </tr>\n",
       "  </tbody>\n",
       "</table>\n",
       "</div>"
      ],
      "text/plain": [
       "                        key  fare_amount  pickup_longitude  pickup_latitude  \\\n",
       "key                1.000000     0.000589          0.000230        -0.000341   \n",
       "fare_amount        0.000589     1.000000          0.010457        -0.008481   \n",
       "pickup_longitude   0.000230     0.010457          1.000000        -0.816461   \n",
       "pickup_latitude   -0.000341    -0.008481         -0.816461         1.000000   \n",
       "dropoff_longitude  0.000270     0.008986          0.833026        -0.774787   \n",
       "dropoff_latitude   0.000271    -0.011014         -0.846324         0.702367   \n",
       "passenger_count    0.001990     0.010737         -0.000342        -0.001738   \n",
       "\n",
       "                   dropoff_longitude  dropoff_latitude  passenger_count  \n",
       "key                         0.000270          0.000271         0.001990  \n",
       "fare_amount                 0.008986         -0.011014         0.010737  \n",
       "pickup_longitude            0.833026         -0.846324        -0.000342  \n",
       "pickup_latitude            -0.774787          0.702367        -0.001738  \n",
       "dropoff_longitude           1.000000         -0.917010         0.000120  \n",
       "dropoff_latitude           -0.917010          1.000000        -0.000796  \n",
       "passenger_count             0.000120         -0.000796         1.000000  "
      ]
     },
     "execution_count": 69,
     "metadata": {},
     "output_type": "execute_result"
    }
   ],
   "source": [
    "df.corr()"
   ]
  },
  {
   "cell_type": "code",
   "execution_count": 74,
   "metadata": {},
   "outputs": [
    {
     "data": {
      "text/plain": [
       "Text(0.5, 1.0, 'Correlation Matrix')"
      ]
     },
     "execution_count": 74,
     "metadata": {},
     "output_type": "execute_result"
    },
    {
     "data": {
      "image/png": "[encoded data removed]",
      "text/plain": [
       "<Figure size 640x480 with 2 Axes>"
      ]
     },
     "metadata": {},
     "output_type": "display_data"
    }
   ],
   "source": [
    "f = plt.figure()\n",
    "plt.matshow(df.corr(), fignum=f.number)\n",
    "plt.xticks(range(df.select_dtypes(['number']).shape[1]), df.select_dtypes(['number']).columns, fontsize=14, rotation=45)\n",
    "plt.yticks(range(df.select_dtypes(['number']).shape[1]), df.select_dtypes(['number']).columns, fontsize=14)\n",
    "cb = plt.colorbar()\n",
    "cb.ax.tick_params(labelsize=14)\n",
    "plt.title('Correlation Matrix', fontsize=16)"
   ]
  }
 ],
 "metadata": {
  "kernelspec": {
   "display_name": "Python 3",
   "language": "python",
   "name": "python3"
  },
  "language_info": {
   "codemirror_mode": {
    "name": "ipython",
    "version": 3
   },
   "file_extension": ".py",
   "mimetype": "text/x-python",
   "name": "python",
   "nbconvert_exporter": "python",
   "pygments_lexer": "ipython3",
   "version": "3.9.1"
  },
  "orig_nbformat": 4,
  "vscode": {
   "interpreter": {
    "hash": "aee8b7b246df8f9039afb4144a1f6fd8d2ca17a180786b69acc140d282b71a49"
   }
  }
 },
 "nbformat": 4,
 "nbformat_minor": 2
}
